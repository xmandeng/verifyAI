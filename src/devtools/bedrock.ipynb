{
 "cells": [
  {
   "cell_type": "code",
   "execution_count": 1,
   "id": "436bdf90",
   "metadata": {},
   "outputs": [],
   "source": [
    "from pydantic_ai import Agent\n",
    "from pydantic import BaseModel, Field\n",
    "import os\n",
    "from typing import List, Optional\n",
    "from enum import Enum"
   ]
  },
  {
   "cell_type": "code",
   "execution_count": 2,
   "id": "9774301f",
   "metadata": {},
   "outputs": [],
   "source": [
    "# Required for PydanticAI to work with Jupyter (nested event loops)\n",
    "import nest_asyncio\n",
    "\n",
    "nest_asyncio.apply()"
   ]
  },
  {
   "cell_type": "code",
   "execution_count": 3,
   "id": "a0d14fc3",
   "metadata": {},
   "outputs": [],
   "source": [
    "# Define enums for standardized fields\n",
    "class Priority(str, Enum):\n",
    "    HIGH = \"High\"\n",
    "    MEDIUM = \"Medium\"\n",
    "    LOW = \"Low\"\n",
    "\n",
    "\n",
    "class StoryStatus(str, Enum):\n",
    "    TODO = \"To Do\"\n",
    "    IN_PROGRESS = \"In Progress\"\n",
    "    IN_REVIEW = \"In Review\"\n",
    "    DONE = \"Done\"\n",
    "\n",
    "\n",
    "class StorySize(str, Enum):\n",
    "    XS = \"XS (1 point)\"\n",
    "    S = \"S (2 points)\"\n",
    "    M = \"M (3 points)\"\n",
    "    L = \"L (5 points)\"\n",
    "    XL = \"XL (8 points)\"\n",
    "    XXL = \"XXL (13 points)\""
   ]
  },
  {
   "cell_type": "code",
   "execution_count": 4,
   "id": "859a7a7d",
   "metadata": {},
   "outputs": [],
   "source": [
    "# Define acceptance criteria as a separate model\n",
    "class AcceptanceCriterion(BaseModel):\n",
    "    description: str = Field(description=\"The specific criterion that must be met\")\n",
    "    test_case: str = Field(description=\"How this criterion can be verified or tested\")\n",
    "\n",
    "\n",
    "# Define the complete user story model\n",
    "class UserStory(BaseModel):\n",
    "    title: str = Field(description=\"Short title of the user story\")\n",
    "    description: str = Field(\n",
    "        description=\"The standard user story format: 'As a [type of user], I want [goal] so that [benefit]'\"\n",
    "    )\n",
    "    acceptance_criteria: List[AcceptanceCriterion] = Field(\n",
    "        description=\"List of specific criteria that must be met for the story to be considered complete\"\n",
    "    )\n",
    "    priority: Priority = Field(description=\"The business priority of this story\")\n",
    "    size: StorySize = Field(description=\"Story point estimation\")\n",
    "    owner: Optional[str] = Field(description=\"Team member responsible for implementing the story\")\n",
    "    assignee: Optional[str] = Field(description=\"Team member currently assigned to the story\")\n",
    "    status: StoryStatus = Field(description=\"Current status in the workflow\")\n",
    "    epic: Optional[str] = Field(description=\"The larger initiative or epic this story belongs to\")\n",
    "    sprint: Optional[str] = Field(description=\"The sprint this story is assigned to\")\n",
    "    dependencies: Optional[List[str]] = Field(\n",
    "        description=\"IDs or names of other stories this one depends on\"\n",
    "    )\n",
    "    tags: Optional[List[str]] = Field(description=\"Relevant tags or labels for categorization\")\n",
    "    notes: Optional[str] = Field(\n",
    "        description=\"Additional contextual information or implementation notes\"\n",
    "    )"
   ]
  },
  {
   "cell_type": "code",
   "execution_count": null,
   "id": "ace3744c",
   "metadata": {},
   "outputs": [],
   "source": [
    "# Create a Bedrock agent using Claude\n",
    "bedrock_agent = Agent(\n",
    "    model=\"bedrock:anthropic.claude-3-sonnet-20240229-v1:0\",\n",
    "    model_settings={\"temperature\": 0.7, \"max_tokens\": 2000},\n",
    "    system_prompt=\"\"\"You are an experienced Agile Product Owner with expertise in writing\n",
    "    high-quality user stories. When asked for an example, provide a realistic,\n",
    "    detailed user story.\"\"\",\n",
    "    result_type=UserStory,\n",
    ")\n",
    "\n",
    "\n",
    "# Test the agent and return the raw Pydantic model\n",
    "def get_user_story_example(prompt: str):\n",
    "    agent = bedrock_agent\n",
    "    response = agent.run_sync(prompt)\n",
    "    return response.data"
   ]
  },
  {
   "cell_type": "code",
   "execution_count": 8,
   "id": "58ae81cf",
   "metadata": {},
   "outputs": [
    {
     "name": "stdout",
     "output_type": "stream",
     "text": [
      "\n",
      "Retrieved user story:\n",
      "{\n",
      "    \"title\": \"Expense Categorization\",\n",
      "    \"description\": \"As a user of the financial app, I want to be able to categorize my expenses by type (e.g. food, transportation, entertainment) so that I can better understand where my money is going.\",\n",
      "    \"acceptance_criteria\": [\n",
      "        {\n",
      "            \"description\": \"User can create custom categories for expenses\",\n",
      "            \"test_case\": \"Create several test categories and verify they are saved correctly\"\n",
      "        },\n",
      "        {\n",
      "            \"description\": \"User can assign an expense to one or more categories\",\n",
      "            \"test_case\": \"Add an expense and assign it to multiple categories, verify it shows up under each category\"\n",
      "        },\n",
      "        {\n",
      "            \"description\": \"User can view expenses grouped by category\",\n",
      "            \"test_case\": \"Filter the expense list to only show categories, verify the totals per category are calculated correctly\"\n",
      "        }\n",
      "    ],\n",
      "    \"priority\": \"High\",\n",
      "    \"size\": \"M (3 points)\",\n",
      "    \"owner\": \"<UNKNOWN>\",\n",
      "    \"assignee\": \"<UNKNOWN>\",\n",
      "    \"status\": \"To Do\",\n",
      "    \"epic\": \"Personal Finance Tracking\",\n",
      "    \"sprint\": \"<UNKNOWN>\",\n",
      "    \"dependencies\": [],\n",
      "    \"tags\": [\n",
      "        \"expenses\",\n",
      "        \"categories\",\n",
      "        \"personal finance\"\n",
      "    ],\n",
      "    \"notes\": \"The categorization should be flexible to allow for custom categories beyond the default ones provided. Consider using tags or labels.\"\n",
      "}\n"
     ]
    }
   ],
   "source": [
    "# Get the user story\n",
    "prompt = \"Generate a complete example user story for a financial app that helps users track and categorize their expenses.\"\n",
    "user_story = get_user_story_example(prompt)\n",
    "\n",
    "print(f\"\\nRetrieved user story:\\n{user_story.model_dump_json(indent=4)}\")"
   ]
  },
  {
   "cell_type": "code",
   "execution_count": 9,
   "id": "0732ca2a",
   "metadata": {},
   "outputs": [
    {
     "data": {
      "text/plain": [
       "UserStory(title='Expense Categorization', description='As a user of the financial app, I want to be able to categorize my expenses by type (e.g. food, transportation, entertainment) so that I can better understand where my money is going.', acceptance_criteria=[AcceptanceCriterion(description='User can create custom categories for expenses', test_case='Create several test categories and verify they are saved correctly'), AcceptanceCriterion(description='User can assign an expense to one or more categories', test_case='Add an expense and assign it to multiple categories, verify it shows up under each category'), AcceptanceCriterion(description='User can view expenses grouped by category', test_case='Filter the expense list to only show categories, verify the totals per category are calculated correctly')], priority=<Priority.HIGH: 'High'>, size=<StorySize.M: 'M (3 points)'>, owner='<UNKNOWN>', assignee='<UNKNOWN>', status=<StoryStatus.TODO: 'To Do'>, epic='Personal Finance Tracking', sprint='<UNKNOWN>', dependencies=[], tags=['expenses', 'categories', 'personal finance'], notes='The categorization should be flexible to allow for custom categories beyond the default ones provided. Consider using tags or labels.')"
      ]
     },
     "execution_count": 9,
     "metadata": {},
     "output_type": "execute_result"
    }
   ],
   "source": [
    "# Examine the Pydantic model\n",
    "user_story"
   ]
  },
  {
   "cell_type": "code",
   "execution_count": 10,
   "id": "0964c980",
   "metadata": {},
   "outputs": [
    {
     "data": {
      "text/plain": [
       "{'title': 'Expense Categorization',\n",
       " 'description': 'As a user of the financial app, I want to be able to categorize my expenses by type (e.g. food, transportation, entertainment) so that I can better understand where my money is going.',\n",
       " 'acceptance_criteria': [AcceptanceCriterion(description='User can create custom categories for expenses', test_case='Create several test categories and verify they are saved correctly'),\n",
       "  AcceptanceCriterion(description='User can assign an expense to one or more categories', test_case='Add an expense and assign it to multiple categories, verify it shows up under each category'),\n",
       "  AcceptanceCriterion(description='User can view expenses grouped by category', test_case='Filter the expense list to only show categories, verify the totals per category are calculated correctly')],\n",
       " 'priority': <Priority.HIGH: 'High'>,\n",
       " 'size': <StorySize.M: 'M (3 points)'>,\n",
       " 'owner': '<UNKNOWN>',\n",
       " 'assignee': '<UNKNOWN>',\n",
       " 'status': <StoryStatus.TODO: 'To Do'>,\n",
       " 'epic': 'Personal Finance Tracking',\n",
       " 'sprint': '<UNKNOWN>',\n",
       " 'dependencies': [],\n",
       " 'tags': ['expenses', 'categories', 'personal finance'],\n",
       " 'notes': 'The categorization should be flexible to allow for custom categories beyond the default ones provided. Consider using tags or labels.'}"
      ]
     },
     "execution_count": 10,
     "metadata": {},
     "output_type": "execute_result"
    }
   ],
   "source": [
    "vars(user_story)"
   ]
  },
  {
   "cell_type": "code",
   "execution_count": 15,
   "id": "8f5af286",
   "metadata": {},
   "outputs": [
    {
     "data": {
      "text/plain": [
       "'Filter the expense list to only show categories, verify the totals per category are calculated correctly'"
      ]
     },
     "execution_count": 15,
     "metadata": {},
     "output_type": "execute_result"
    }
   ],
   "source": [
    "user_story.acceptance_criteria[2].test_case"
   ]
  },
  {
   "cell_type": "code",
   "execution_count": null,
   "id": "2592855c",
   "metadata": {},
   "outputs": [],
   "source": []
  }
 ],
 "metadata": {
  "kernelspec": {
   "display_name": ".venv",
   "language": "python",
   "name": "python3"
  },
  "language_info": {
   "codemirror_mode": {
    "name": "ipython",
    "version": 3
   },
   "file_extension": ".py",
   "mimetype": "text/x-python",
   "name": "python",
   "nbconvert_exporter": "python",
   "pygments_lexer": "ipython3",
   "version": "3.11.8"
  }
 },
 "nbformat": 4,
 "nbformat_minor": 5
}
