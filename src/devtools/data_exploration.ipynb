{
 "cells": [
  {
   "cell_type": "code",
   "execution_count": 1,
   "metadata": {},
   "outputs": [],
   "source": [
    "import nest_asyncio\n",
    "\n",
    "nest_asyncio.apply()"
   ]
  },
  {
   "cell_type": "code",
   "execution_count": null,
   "metadata": {},
   "outputs": [],
   "source": [
    "from pastel.parsers import parse_assertion, parse_evidence, check_grammar\n",
    "from pastel.helpers import load_images_from_directory\n",
    "\n",
    "from pastel.models import InputModel\n",
    "\n",
    "import logfire\n",
    "import pandas as pd\n",
    "from IPython.display import display, Markdown\n",
    "import asyncio\n",
    "\n",
    "from pastel.reference import GLOSSARY\n",
    "import os\n",
    "\n",
    "# Show all rows in pandas DataFrames\n",
    "pd.set_option(\"display.max_rows\", 100)\n",
    "pd.set_option(\"display.max_columns\", None)\n",
    "pd.set_option(\"display.width\", None)\n",
    "pd.set_option(\"display.max_colwidth\", None)\n",
    "\n",
    "logfire.configure(token=os.getenv(\"PYDANTIC_LOGFIRE_TOKEN\"))\n",
    "logfire.instrument_openai()\n",
    "logfire.instrument_anthropic()"
   ]
  },
  {
   "cell_type": "code",
   "execution_count": null,
   "metadata": {},
   "outputs": [],
   "source": [
    "display(Markdown(GLOSSARY))"
   ]
  },
  {
   "cell_type": "code",
   "execution_count": null,
   "metadata": {},
   "outputs": [],
   "source": [
    "lrs = pd.read_excel(\"../data/lrs.xlsx\")\n",
    "insights = pd.read_excel(\"../data/Insights.xlsx\")\n",
    "\n",
    "sample_programnames = [\n",
    "    \"pdl6muw8mJl9DL7bVO40nFOroodOnSFBG5e7zw+nAW32k7BiKehq6oLHwyItBjfw\",\n",
    "    \"zOh+1hfGBc0APeN39xBT9Gw3m4vCj5fzPe4I4Ix86FlsyGY2I2GRkqPVee1eQqQe\",\n",
    "]\n",
    "\n",
    "display(Markdown(\"# Loss Ratio Data Set\"))\n",
    "display(Markdown(\"**Spreadsheet:** lrs.xslx\"))\n",
    "display(lrs.query(\"programname in @sample_programnames\"))\n",
    "display(Markdown(\"<br><br>\"))\n",
    "\n",
    "display(Markdown(\"# Insights Data Set\"))\n",
    "display(Markdown(\"**Filename:** Insights.xlsx\"))\n",
    "# display(insights.query(\"programname in @sample_programnames\"))\n",
    "display(insights)"
   ]
  },
  {
   "cell_type": "code",
   "execution_count": 5,
   "metadata": {},
   "outputs": [],
   "source": [
    "image_dir = \"../data/0wvTBiDyAsazB20qDhyomFS505t1ko+Dne-eZsDtqddeA4-SnAMhg8Bctev9RGU1\"\n",
    "images = load_images_from_directory(image_dir)"
   ]
  },
  {
   "cell_type": "code",
   "execution_count": null,
   "metadata": {},
   "outputs": [],
   "source": [
    "images[\"severity.png\"].image_path"
   ]
  },
  {
   "cell_type": "code",
   "execution_count": 6,
   "metadata": {},
   "outputs": [],
   "source": [
    "input_model = InputModel(**{\"name\": insights[\"programname\"][0], \"insight\": insights[\"insight\"][0]})"
   ]
  },
  {
   "cell_type": "code",
   "execution_count": null,
   "metadata": {},
   "outputs": [],
   "source": [
    "await parse_assertion(input_model)"
   ]
  },
  {
   "cell_type": "code",
   "execution_count": null,
   "metadata": {},
   "outputs": [],
   "source": [
    "tasks = [asyncio.create_task(parse_assertion(InputModel(**{\"name\": row.programname, \"insight\": row.insight}))) for row in insights.itertuples()]\n",
    "insights[\"conclusions\"] = await asyncio.gather(*tasks)"
   ]
  },
  {
   "cell_type": "code",
   "execution_count": null,
   "metadata": {},
   "outputs": [],
   "source": [
    "insights[\"conclusions\"][0]"
   ]
  },
  {
   "cell_type": "code",
   "execution_count": null,
   "metadata": {},
   "outputs": [],
   "source": [
    "tasks = [\n",
    "    asyncio.create_task(parse_evidence(row.conclusions))\n",
    "    for row in insights.itertuples()\n",
    "]\n",
    "insights[\"pastels\"] = await asyncio.gather(*tasks)"
   ]
  },
  {
   "cell_type": "code",
   "execution_count": null,
   "metadata": {},
   "outputs": [],
   "source": [
    "tasks = [asyncio.create_task(check_grammar(insight.strip())) for insight in insights[\"insight\"]]\n",
    "insights[\"grammar\"] = await asyncio.gather(*tasks)"
   ]
  },
  {
   "cell_type": "code",
   "execution_count": null,
   "metadata": {},
   "outputs": [],
   "source": [
    "insights[[\"programname\", \"insight\", \"pastels\", \"grammar\"]].style.set_properties(\n",
    "    **{\"text-align\": \"left\"}\n",
    ").set_table_styles([{\"selector\": \"th\", \"props\": [(\"text-align\", \"left\")]}])"
   ]
  },
  {
   "cell_type": "code",
   "execution_count": null,
   "metadata": {},
   "outputs": [],
   "source": []
  }
 ],
 "metadata": {
  "kernelspec": {
   "display_name": ".venv",
   "language": "python",
   "name": "python3"
  },
  "language_info": {
   "codemirror_mode": {
    "name": "ipython",
    "version": 3
   },
   "file_extension": ".py",
   "mimetype": "text/x-python",
   "name": "python",
   "nbconvert_exporter": "python",
   "pygments_lexer": "ipython3",
   "version": "3.11.8"
  }
 },
 "nbformat": 4,
 "nbformat_minor": 2
}
