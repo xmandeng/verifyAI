{
 "cells": [
  {
   "cell_type": "code",
   "execution_count": 1,
   "metadata": {},
   "outputs": [],
   "source": [
    "import nest_asyncio\n",
    "\n",
    "nest_asyncio.apply()"
   ]
  },
  {
   "cell_type": "code",
   "execution_count": 2,
   "metadata": {},
   "outputs": [],
   "source": [
    "from pydantic_ai import Agent, RunContext\n",
    "from pydantic_ai.models import KnownModelName\n",
    "from pastel.classifiers import classify_images, classify_insurance_text, classify_insurance_image\n",
    "from pastel.parsers import parse_assertion, parse_evidence, check_grammar\n",
    "from pprint import pprint\n",
    "import pandas as pd\n",
    "import logfire\n",
    "import os\n",
    "from pastel.helpers import load_images_from_directory, create_consolidated_image\n",
    "from pastel.models import (\n",
    "    InsightModel,\n",
    "    InsightValidation,\n",
    "    InsightPlots,\n",
    "    InputModel,\n",
    "    PremiseValidation,\n",
    "    BaseImage,\n",
    ")\n",
    "from pastel.prompts import EVALUATION_PROMPT, CLAIMS_VALIDATION_PROMPT\n",
    "\n",
    "from IPython.display import display, Markdown\n",
    "\n",
    "logfire.configure(token=os.getenv(\"PYDANTIC_LOGFIRE_TOKEN\"))\n",
    "logfire.instrument_openai()\n",
    "logfire.instrument_anthropic()\n",
    "\n",
    "OPENAI_MODEL: KnownModelName = \"openai:gpt-4o-mini\"\n",
    "ANTHROPIC_MODEL: KnownModelName = \"anthropic:claude-3-5-sonnet-latest\"\n",
    "\n",
    "index = 8"
   ]
  },
  {
   "cell_type": "code",
   "execution_count": 3,
   "metadata": {},
   "outputs": [
    {
     "name": "stdout",
     "output_type": "stream",
     "text": [
      "08:02:04.651 Chat Completion with 'gpt-4o-mini' [LLM]\n"
     ]
    },
    {
     "data": {
      "text/html": [
       "<pre style=\"white-space:pre;overflow-x:auto;line-height:normal;font-family:Menlo,'DejaVu Sans Mono',consolas,'Courier New',monospace\"><span style=\"font-weight: bold\">Logfire</span> project URL: <a href=\"https://logfire.pydantic.dev/xmandeng/pastel\" target=\"_blank\"><span style=\"color: #008080; text-decoration-color: #008080; text-decoration: underline\">https://logfire.pydantic.dev/xmandeng/pastel</span></a>\n",
       "</pre>\n"
      ],
      "text/plain": [
       "\u001b[1mLogfire\u001b[0m project URL: \u001b]8;id=705989;https://logfire.pydantic.dev/xmandeng/pastel\u001b\\\u001b[4;36mhttps://logfire.pydantic.dev/xmandeng/pastel\u001b[0m\u001b]8;;\u001b\\\n"
      ]
     },
     "metadata": {},
     "output_type": "display_data"
    },
    {
     "name": "stdout",
     "output_type": "stream",
     "text": [
      "08:02:10.686 Chat Completion with 'gpt-4o-mini' [LLM]\n"
     ]
    }
   ],
   "source": [
    "insights = pd.read_excel(\"../data/Insights.xlsx\")\n",
    "\n",
    "input_model = InputModel(\n",
    "    name=insights[\"programname\"][index],\n",
    "    insight=insights[\"insight\"][index],\n",
    "    line_of_business=insights[\"line_of_business\"][index],\n",
    ")\n",
    "\n",
    "assertion = await parse_assertion(input_model)\n",
    "insight = await parse_evidence(assertion)"
   ]
  },
  {
   "cell_type": "code",
   "execution_count": 4,
   "metadata": {},
   "outputs": [],
   "source": [
    "# Retrieve data sets\n",
    "lrs = pd.read_excel(\"../data/lrs.xlsx\")\n",
    "lrs_data = lrs.loc[lrs[\"programname\"] == insight.name].drop(columns=[\"programname\"])"
   ]
  },
  {
   "cell_type": "code",
   "execution_count": 5,
   "metadata": {},
   "outputs": [
    {
     "data": {
      "text/plain": [
       "'vbOJFqJ0BOzEXIi9uBzgow+z55EcdgzYq6ntebANax8='"
      ]
     },
     "execution_count": 5,
     "metadata": {},
     "output_type": "execute_result"
    }
   ],
   "source": [
    "insight.name"
   ]
  },
  {
   "cell_type": "code",
   "execution_count": 6,
   "metadata": {},
   "outputs": [
    {
     "data": {
      "text/plain": [
       "InsightPlots(plots={'severity.png': BaseImage(image_path=PosixPath('../data/vbOJFqJ0BOzEXIi9uBzgow+z55EcdgzYq6ntebANax8=/severity.png'), image=<PIL.Image.Image image mode=RGB size=458x344 at 0x123AC8690>), 'pricing.png': BaseImage(image_path=PosixPath('../data/vbOJFqJ0BOzEXIi9uBzgow+z55EcdgzYq6ntebANax8=/pricing.png'), image=<PIL.Image.Image image mode=RGB size=426x262 at 0x12350C710>), 'frequency.png': BaseImage(image_path=PosixPath('../data/vbOJFqJ0BOzEXIi9uBzgow+z55EcdgzYq6ntebANax8=/frequency.png'), image=<PIL.Image.Image image mode=RGB size=451x311 at 0x123520690>), 'cut2.png': BaseImage(image_path=PosixPath('../data/vbOJFqJ0BOzEXIi9uBzgow+z55EcdgzYq6ntebANax8=/cut2.png'), image=<PIL.Image.Image image mode=RGB size=426x213 at 0x123520A10>), 'cut3.png': BaseImage(image_path=PosixPath('../data/vbOJFqJ0BOzEXIi9uBzgow+z55EcdgzYq6ntebANax8=/cut3.png'), image=<PIL.Image.Image image mode=RGB size=426x213 at 0x123523750>), 'cut1.png': BaseImage(image_path=PosixPath('../data/vbOJFqJ0BOzEXIi9uBzgow+z55EcdgzYq6ntebANax8=/cut1.png'), image=<PIL.Image.Image image mode=RGB size=426x213 at 0x123522610>)})"
      ]
     },
     "execution_count": 6,
     "metadata": {},
     "output_type": "execute_result"
    }
   ],
   "source": [
    "images = InsightPlots(plots=load_images_from_directory(f\"../data/{insight.name.replace('/', '-')}\"))\n",
    "images"
   ]
  },
  {
   "cell_type": "code",
   "execution_count": 7,
   "metadata": {},
   "outputs": [],
   "source": [
    "# Example usage\n",
    "consolidated_image = create_consolidated_image(lrs_data, images, insight)"
   ]
  },
  {
   "cell_type": "code",
   "execution_count": 8,
   "metadata": {},
   "outputs": [
    {
     "data": {
      "text/plain": [
       "BaseImage(image_path=PosixPath('../data/vbOJFqJ0BOzEXIi9uBzgow+z55EcdgzYq6ntebANax8=_consolidated_image.png'), image=<PIL.Image.Image image mode=RGB size=1200x2000 at 0x123AE24D0>)"
      ]
     },
     "execution_count": 8,
     "metadata": {},
     "output_type": "execute_result"
    }
   ],
   "source": [
    "consolidated_image"
   ]
  },
  {
   "cell_type": "code",
   "execution_count": 9,
   "metadata": {},
   "outputs": [
    {
     "name": "stdout",
     "output_type": "stream",
     "text": [
      "08:02:12.587 Message with 'claude-3-5-sonnet-latest' [LLM]\n"
     ]
    }
   ],
   "source": [
    "premises = await classify_insurance_image(consolidated_image, insight.evidence)"
   ]
  },
  {
   "cell_type": "code",
   "execution_count": 10,
   "metadata": {},
   "outputs": [
    {
     "data": {
      "text/plain": [
       "[PremiseValidation(claim='The policies written in FL appear to have higher loss ratios than other states', status='True', confidence='High', reasoning='Looking at the bottom chart showing loss ratios by state, Florida (FL) shows a loss ratio of approximately 0.32-0.33, which is indeed higher than most other states shown (NY, Other, CO, AZ). This is clearly visible in the data and supports the statement.'),\n",
       " PremiseValidation(claim='There is a considerable increase in price in the most recent months', status='False', confidence='High', reasoning=\"The 'Written Premium per Risk and Days Covered' graph (pricing.png) shows relatively flat pricing trends over time, with only a very slight upward movement towards the end. This minor change cannot be characterized as a 'considerable increase' - the line remains largely stable throughout the shown time period with minimal variation.\")]"
      ]
     },
     "execution_count": 10,
     "metadata": {},
     "output_type": "execute_result"
    }
   ],
   "source": [
    "premises"
   ]
  },
  {
   "cell_type": "code",
   "execution_count": null,
   "metadata": {},
   "outputs": [],
   "source": []
  }
 ],
 "metadata": {
  "kernelspec": {
   "display_name": ".venv",
   "language": "python",
   "name": "python3"
  },
  "language_info": {
   "codemirror_mode": {
    "name": "ipython",
    "version": 3
   },
   "file_extension": ".py",
   "mimetype": "text/x-python",
   "name": "python",
   "nbconvert_exporter": "python",
   "pygments_lexer": "ipython3",
   "version": "3.11.8"
  }
 },
 "nbformat": 4,
 "nbformat_minor": 2
}
