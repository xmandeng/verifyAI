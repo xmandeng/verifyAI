{
 "cells": [
  {
   "cell_type": "code",
   "execution_count": 1,
   "metadata": {},
   "outputs": [],
   "source": [
    "import nest_asyncio\n",
    "\n",
    "nest_asyncio.apply()"
   ]
  },
  {
   "cell_type": "code",
   "execution_count": 2,
   "metadata": {},
   "outputs": [],
   "source": [
    "from pydantic_ai import Agent, RunContext\n",
    "from pydantic_ai.models import KnownModelName\n",
    "from pastel.classifiers import classify_images, classify_insurance_text, classify_insurance_image\n",
    "from pastel.parsers import parse_assertion, parse_evidence, check_grammar\n",
    "from pastel.evaluation import consolidate_evaluations\n",
    "\n",
    "from pprint import pprint\n",
    "import pandas as pd\n",
    "import logfire\n",
    "import os\n",
    "from pastel.helpers import load_images_from_directory, create_consolidated_image\n",
    "from pastel.models import (\n",
    "    InsightModel,\n",
    "    InsightValidation,\n",
    "    InsightPlots,\n",
    "    InputModel,\n",
    "    PremiseValidation,\n",
    "    BaseImage,\n",
    ")\n",
    "from pastel.prompts import EVALUATION_PROMPT, CLAIMS_VALIDATION_PROMPT\n",
    "\n",
    "logfire.configure(token=os.getenv(\"PYDANTIC_LOGFIRE_TOKEN\"))\n",
    "logfire.instrument_openai()\n",
    "logfire.instrument_anthropic()\n",
    "\n",
    "OPENAI_MODEL: KnownModelName = \"openai:gpt-4o-mini\"\n",
    "ANTHROPIC_MODEL: KnownModelName = \"anthropic:claude-3-5-sonnet-latest\"\n",
    "\n",
    "index = 4"
   ]
  },
  {
   "cell_type": "code",
   "execution_count": null,
   "metadata": {},
   "outputs": [],
   "source": [
    "insights = pd.read_excel(\"../data/Insights.xlsx\")\n",
    "\n",
    "input_model = InputModel(\n",
    "    name=insights[\"programname\"][index],\n",
    "    insight=insights[\"insight\"][index],\n",
    "    line_of_business=insights[\"line_of_business\"][index],\n",
    ")\n",
    "\n",
    "assertion = await parse_assertion(input_model)\n",
    "insight = await parse_evidence(assertion)"
   ]
  },
  {
   "cell_type": "code",
   "execution_count": 4,
   "metadata": {},
   "outputs": [],
   "source": [
    "# Retrieve data sets\n",
    "lrs = pd.read_excel(\"../data/lrs.xlsx\")\n",
    "lrs_data = lrs.loc[lrs[\"programname\"] == insight.name].drop(columns=[\"programname\"])"
   ]
  },
  {
   "cell_type": "code",
   "execution_count": null,
   "metadata": {},
   "outputs": [],
   "source": [
    "insight.name"
   ]
  },
  {
   "cell_type": "code",
   "execution_count": null,
   "metadata": {},
   "outputs": [],
   "source": [
    "images = InsightPlots(plots=load_images_from_directory(f\"../data/{insight.name.replace('/', '-')}\"))\n",
    "images"
   ]
  },
  {
   "cell_type": "code",
   "execution_count": 7,
   "metadata": {},
   "outputs": [],
   "source": [
    "# Example usage\n",
    "consolidated_image = create_consolidated_image(lrs_data, images, insight)"
   ]
  },
  {
   "cell_type": "code",
   "execution_count": null,
   "metadata": {},
   "outputs": [],
   "source": [
    "consolidated_image"
   ]
  },
  {
   "cell_type": "code",
   "execution_count": null,
   "metadata": {},
   "outputs": [],
   "source": [
    "insight"
   ]
  },
  {
   "cell_type": "code",
   "execution_count": null,
   "metadata": {},
   "outputs": [],
   "source": [
    "premises = await classify_insurance_image(consolidated_image, insight.evidence)\n",
    "premises"
   ]
  },
  {
   "cell_type": "code",
   "execution_count": null,
   "metadata": {},
   "outputs": [],
   "source": [
    "grammar = await check_grammar(insight)\n",
    "grammar"
   ]
  },
  {
   "cell_type": "code",
   "execution_count": null,
   "metadata": {},
   "outputs": [],
   "source": [
    "final_evaluation = await consolidate_evaluations(insight, premises, grammar)"
   ]
  },
  {
   "cell_type": "code",
   "execution_count": null,
   "metadata": {},
   "outputs": [],
   "source": []
  }
 ],
 "metadata": {
  "kernelspec": {
   "display_name": ".venv",
   "language": "python",
   "name": "python3"
  },
  "language_info": {
   "codemirror_mode": {
    "name": "ipython",
    "version": 3
   },
   "file_extension": ".py",
   "mimetype": "text/x-python",
   "name": "python",
   "nbconvert_exporter": "python",
   "pygments_lexer": "ipython3",
   "version": "3.11.8"
  }
 },
 "nbformat": 4,
 "nbformat_minor": 2
}
