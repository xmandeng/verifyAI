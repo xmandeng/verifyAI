{
 "cells": [
  {
   "cell_type": "code",
   "execution_count": 1,
   "metadata": {},
   "outputs": [],
   "source": [
    "import nest_asyncio\n",
    "\n",
    "nest_asyncio.apply()"
   ]
  },
  {
   "cell_type": "code",
   "execution_count": null,
   "metadata": {},
   "outputs": [],
   "source": [
    "from pydantic_ai import Agent, RunContext\n",
    "from pydantic_ai.models import KnownModelName\n",
    "from pastel.classifiers import classify_insurance_image, classify_images\n",
    "\n",
    "import logfire\n",
    "import os\n",
    "from pastel.helpers import load_images_from_directory\n",
    "from pastel.models import InsightModel, InsightValidation, InsightPlots\n",
    "from pastel.prompts import EVALUATION_PROMPT, CLAIMS_VALIDATION_PROMPT\n",
    "\n",
    "logfire.configure(token=os.getenv(\"PYDANTIC_LOGFIRE_TOKEN\"))\n",
    "logfire.instrument_openai()\n",
    "logfire.instrument_anthropic()\n",
    "\n",
    "OPENAI_MODEL: KnownModelName = \"openai:gpt-4o-mini\"\n",
    "ANTHROPIC_MODEL: KnownModelName = \"anthropic:claude-3-5-sonnet-latest\"\n",
    "\n",
    "image_dir = \"../data/0wvTBiDyAsazB20qDhyomFS505t1ko+Dne-eZsDtqddeA4-SnAMhg8Bctev9RGU1\""
   ]
  },
  {
   "cell_type": "code",
   "execution_count": 3,
   "metadata": {},
   "outputs": [],
   "source": [
    "validator_agent = Agent(\n",
    "    model=OPENAI_MODEL,\n",
    "    deps_type=InsightModel,\n",
    "    result_type=InsightValidation,\n",
    "    system_prompt=EVALUATION_PROMPT,\n",
    ")\n",
    "\n",
    "\n",
    "@validator_agent.system_prompt\n",
    "def build_user_prompt(ctx: RunContext[InsightModel]) -> str:\n",
    "    return CLAIMS_VALIDATION_PROMPT.format(\n",
    "        program_name=ctx.deps.name,\n",
    "        line_of_business=\"EULR\",\n",
    "        insight_text=ctx.deps.insight,\n",
    "        lrs_summary=\"\",\n",
    "        images=\"\",\n",
    "    )"
   ]
  },
  {
   "cell_type": "code",
   "execution_count": 4,
   "metadata": {},
   "outputs": [],
   "source": [
    "images = InsightPlots(plots=load_images_from_directory(image_dir))"
   ]
  },
  {
   "cell_type": "code",
   "execution_count": null,
   "metadata": {},
   "outputs": [],
   "source": [
    "await classify_images(images)"
   ]
  },
  {
   "cell_type": "code",
   "execution_count": null,
   "metadata": {},
   "outputs": [],
   "source": []
  }
 ],
 "metadata": {
  "kernelspec": {
   "display_name": ".venv",
   "language": "python",
   "name": "python3"
  },
  "language_info": {
   "codemirror_mode": {
    "name": "ipython",
    "version": 3
   },
   "file_extension": ".py",
   "mimetype": "text/x-python",
   "name": "python",
   "nbconvert_exporter": "python",
   "pygments_lexer": "ipython3",
   "version": "3.11.8"
  }
 },
 "nbformat": 4,
 "nbformat_minor": 2
}
