{
 "cells": [
  {
   "cell_type": "code",
   "execution_count": 1,
   "metadata": {},
   "outputs": [],
   "source": [
    "import nest_asyncio\n",
    "\n",
    "nest_asyncio.apply()"
   ]
  },
  {
   "cell_type": "code",
   "execution_count": null,
   "metadata": {},
   "outputs": [],
   "source": [
    "from pydantic_ai import Agent, RunContext\n",
    "from pydantic_ai.models import KnownModelName\n",
    "from pydantic import BaseModel, ConfigDict, Field\n",
    "\n",
    "from pastel.helpers import load_images_from_directory\n",
    "from pastel.models import InsightModel, InsightValidation, BaseImage\n",
    "from pastel.prompts import EVALUATION_PROMPT, CLAIMS_VALIDATION_PROMPT\n",
    "\n",
    "OPENAI_MODEL: KnownModelName = \"openai:gpt-4o-mini\"\n",
    "ANTHROPIC_MODEL: KnownModelName = \"anthropic:claude-3-5-sonnet-latest\"\n",
    "\n",
    "image_dir = \"../data/0wvTBiDyAsazB20qDhyomFS505t1ko+Dne-eZsDtqddeA4-SnAMhg8Bctev9RGU1\""
   ]
  },
  {
   "cell_type": "code",
   "execution_count": 2,
   "metadata": {},
   "outputs": [],
   "source": [
    "eval_agent = Agent(\n",
    "    model=OPENAI_MODEL,\n",
    "    deps_type=InsightModel,\n",
    "    result_type=InsightValidation,\n",
    "    system_prompt=EVALUATION_PROMPT,\n",
    ")\n",
    "\n",
    "\n",
    "@eval_agent.system_prompt\n",
    "def build_user_prompt(ctx: RunContext[InsightModel]) -> str:\n",
    "    return CLAIMS_VALIDATION_PROMPT"
   ]
  },
  {
   "cell_type": "code",
   "execution_count": null,
   "metadata": {},
   "outputs": [],
   "source": [
    "class InsightPlots(BaseModel):\n",
    "    plots: dict[str, str] = Field(\n",
    "        ..., description=\"Dictionary of plot names and corresponding base64-encoded images\"\n",
    "    )\n",
    "    model_config = ConfigDict(\n",
    "        frozen=True,\n",
    "        validate_assignment=True,\n",
    "        str_strip_whitespace=True,\n",
    "        arbitrary_types_allowed=True,\n",
    "    )\n",
    "\n",
    "images = InsightPlots(plots=load_images_from_directory(image_dir))\n",
    "\n",
    "images.plots.keys()"
   ]
  },
  {
   "cell_type": "code",
   "execution_count": null,
   "metadata": {},
   "outputs": [],
   "source": []
  },
  {
   "cell_type": "code",
   "execution_count": 10,
   "metadata": {},
   "outputs": [],
   "source": []
  },
  {
   "cell_type": "code",
   "execution_count": null,
   "metadata": {},
   "outputs": [],
   "source": []
  }
 ],
 "metadata": {
  "kernelspec": {
   "display_name": ".venv",
   "language": "python",
   "name": "python3"
  },
  "language_info": {
   "codemirror_mode": {
    "name": "ipython",
    "version": 3
   },
   "file_extension": ".py",
   "mimetype": "text/x-python",
   "name": "python",
   "nbconvert_exporter": "python",
   "pygments_lexer": "ipython3",
   "version": "3.11.8"
  }
 },
 "nbformat": 4,
 "nbformat_minor": 2
}
